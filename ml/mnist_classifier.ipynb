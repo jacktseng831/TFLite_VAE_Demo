{
 "cells": [
  {
   "cell_type": "markdown",
   "metadata": {
    "colab_type": "text",
    "id": "Tce3stUlHN0L"
   },
   "source": [
    "##### Copyright 2019 The TensorFlow Authors.\n"
   ]
  },
  {
   "cell_type": "code",
   "execution_count": 1,
   "metadata": {
    "cellView": "form",
    "colab": {},
    "colab_type": "code",
    "id": "tuOe1ymfHZPu"
   },
   "outputs": [],
   "source": [
    "#@title Licensed under the Apache License, Version 2.0 (the \"License\");\n",
    "# you may not use this file except in compliance with the License.\n",
    "# You may obtain a copy of the License at\n",
    "#\n",
    "# https://www.apache.org/licenses/LICENSE-2.0\n",
    "#\n",
    "# Unless required by applicable law or agreed to in writing, software\n",
    "# distributed under the License is distributed on an \"AS IS\" BASIS,\n",
    "# WITHOUT WARRANTIES OR CONDITIONS OF ANY KIND, either express or implied.\n",
    "# See the License for the specific language governing permissions and\n",
    "# limitations under the License."
   ]
  },
  {
   "cell_type": "markdown",
   "metadata": {
    "colab_type": "text",
    "id": "MfBg1C5NB3X0"
   },
   "source": [
    "# Build a digit classifier app with TensorFlow Lite\n",
    "\n",
    "<table class=\"tfo-notebook-buttons\" align=\"left\">\n",
    "  <td>\n",
    "    <a target=\"_blank\" href=\"https://colab.research.google.com/github/tensorflow/examples/blob/master/lite/examples/digit_classifier/ml/mnist_tflite.ipynb\"><img src=\"https://www.tensorflow.org/images/colab_logo_32px.png\" />Run in Google Colab</a>\n",
    "  </td>\n",
    "  <td>\n",
    "    <a target=\"_blank\" href=\"https://github.com/tensorflow/examples/blob/master/lite/examples/digit_classifier/ml/mnist_tflite.ipynb\"><img src=\"https://www.tensorflow.org/images/GitHub-Mark-32px.png\" />View source on GitHub</a>\n",
    "  </td>\n",
    "</table>"
   ]
  },
  {
   "cell_type": "markdown",
   "metadata": {
    "colab_type": "text",
    "id": "xHxb-dlhMIzW"
   },
   "source": [
    "## Overview\n",
    "\n",
    "This notebook shows an end-to-end example of training a TensorFlow model using Keras and Python, then export it to TensorFlow Lite format to use in mobile apps. Here we will train a handwritten digit classifier using MNIST dataset.\n"
   ]
  },
  {
   "cell_type": "markdown",
   "metadata": {
    "colab_type": "text",
    "id": "MUXex9ctTuDB"
   },
   "source": [
    "## Setup"
   ]
  },
  {
   "cell_type": "code",
   "execution_count": 2,
   "metadata": {
    "colab": {},
    "colab_type": "code",
    "id": "kS_mq4yAlXHZ"
   },
   "outputs": [
    {
     "name": "stdout",
     "output_type": "stream",
     "text": [
      "2.1.0\n"
     ]
    }
   ],
   "source": [
    "# TensorFlow and tf.keras\n",
    "import tensorflow as tf\n",
    "from tensorflow import keras\n",
    "\n",
    "# Helper libraries\n",
    "import numpy as np\n",
    "import matplotlib.pyplot as plt\n",
    "import math\n",
    "\n",
    "print(tf.__version__)\n",
    "\n",
    "# Helper function to display digit images\n",
    "def show_sample(images, labels, sample_count=25):\n",
    "  # Create a square with can fit {sample_count} images\n",
    "  grid_count = math.ceil(math.ceil(math.sqrt(sample_count)))\n",
    "  grid_count = min(grid_count, len(images), len(labels))\n",
    "  \n",
    "  plt.figure(figsize=(2*grid_count, 2*grid_count))\n",
    "  for i in range(sample_count):\n",
    "    plt.subplot(grid_count, grid_count, i+1)\n",
    "    plt.xticks([])\n",
    "    plt.yticks([])\n",
    "    plt.grid(False)\n",
    "    plt.imshow(images[i], cmap=plt.cm.gray)\n",
    "    plt.xlabel(labels[i])\n",
    "  plt.show()"
   ]
  },
  {
   "cell_type": "markdown",
   "metadata": {
    "colab_type": "text",
    "id": "r0WlLrJcnwWp"
   },
   "source": [
    "## Download and explore the MNIST dataset\n",
    "The MNIST database contains 60,000 training images and 10,000 testing images of handwritten digits. We will use the dataset to demonstrate how to train a image classification model and convert it to TensorFlow Lite format.\n",
    "\n",
    "Each image in the MNIST dataset is a 28x28 grayscale image containing a digit.\n",
    "![MNIST sample](https://storage.googleapis.com/khanhlvg-public.appspot.com/digit-classifier/mnist.png)"
   ]
  },
  {
   "cell_type": "code",
   "execution_count": 3,
   "metadata": {
    "colab": {},
    "colab_type": "code",
    "id": "B5REuMrblewK"
   },
   "outputs": [],
   "source": [
    "# Download MNIST dataset.\n",
    "mnist = keras.datasets.mnist\n",
    "(train_images, train_labels), (test_images, test_labels) = mnist.load_data()\n",
    "\n",
    "# If you can't download the MNIST dataset from Keras, please try again with an alternative method below\n",
    "# path = keras.utils.get_file('mnist.npz',\n",
    "#                             origin='https://s3.amazonaws.com/img-datasets/mnist.npz',\n",
    "#                             file_hash='8a61469f7ea1b51cbae51d4f78837e45')\n",
    "# with np.load(path, allow_pickle=True) as f:\n",
    "#   train_images, train_labels = f['x_train'], f['y_train']\n",
    "#   test_images, test_labels = f['x_test'], f['y_test']"
   ]
  },
  {
   "cell_type": "code",
   "execution_count": 4,
   "metadata": {
    "colab": {},
    "colab_type": "code",
    "id": "REY5lDDylpFh",
    "private_outputs": true,
    "toc_visible": true
   },
   "outputs": [],
   "source": [
    "# Normalize the input image so that each pixel value is between 0 to 1.\n",
    "train_images = train_images / 255.0\n",
    "test_images = test_images / 255.0"
   ]
  },
  {
   "cell_type": "code",
   "execution_count": 5,
   "metadata": {
    "colab": {},
    "colab_type": "code",
    "id": "SAOE84IplyWR"
   },
   "outputs": [
    {
     "data": {
      "image/png": "[encoded data removed]",
      "text/plain": [
       "<Figure size 720x720 with 25 Axes>"
      ]
     },
     "metadata": {},
     "output_type": "display_data"
    }
   ],
   "source": [
    "# Show the first 25 images in the training dataset.\n",
    "show_sample(train_images, \n",
    "            ['Label: %s' % label for label in train_labels])"
   ]
  },
  {
   "cell_type": "markdown",
   "metadata": {
    "colab_type": "text",
    "id": "9v-Wp3TxpLX6"
   },
   "source": [
    "## Train a TensorFlow model to classify digit images\n",
    "We use Keras API to build a TensorFlow model that can classify the digit images. Please see this [tutorial](https://www.tensorflow.org/beta/tutorials/keras/basic_classification) if you are interested to learn more about how to build machine learning model with Keras and TensorFlow."
   ]
  },
  {
   "cell_type": "code",
   "execution_count": 6,
   "metadata": {
    "colab": {},
    "colab_type": "code",
    "id": "IWgBGmaplzcp"
   },
   "outputs": [],
   "source": [
    "# Define the model architecture\n",
    "model = keras.Sequential([\n",
    "    # keras.layers.Flatten(input_shape=(28, 28)),\n",
    "    # keras.layers.Dense(128, activation=tf.nn.relu),\n",
    "\n",
    "# Optional: You can replace the dense layer above with the convolution layers below to get higher accuracy.\n",
    "    keras.layers.Reshape(target_shape=(28, 28, 1)),\n",
    "    keras.layers.Conv2D(filters=32, kernel_size=(3, 3), activation=tf.nn.relu),\n",
    "    keras.layers.Conv2D(filters=64, kernel_size=(3, 3), activation=tf.nn.relu),\n",
    "    keras.layers.MaxPooling2D(pool_size=(2, 2)),\n",
    "    keras.layers.Dropout(0.25),\n",
    "    keras.layers.Flatten(input_shape=(28, 28)),\n",
    "    keras.layers.Dense(128, activation=tf.nn.relu),\n",
    "    keras.layers.Dropout(0.5),\n",
    "\n",
    "    keras.layers.Dense(10)\n",
    "])\n",
    "\n",
    "model.compile(optimizer='adam',\n",
    "              loss=tf.keras.losses.SparseCategoricalCrossentropy(from_logits=True),\n",
    "              metrics=['accuracy'])"
   ]
  },
  {
   "cell_type": "code",
   "execution_count": 7,
   "metadata": {
    "colab": {},
    "colab_type": "code",
    "id": "V6SOZuLRmEzS"
   },
   "outputs": [
    {
     "name": "stdout",
     "output_type": "stream",
     "text": [
      "Train on 60000 samples\n",
      "Epoch 1/50\n",
      "60000/60000 [==============================] - 21s 344us/sample - loss: 0.1887 - accuracy: 0.9424\n",
      "Epoch 2/50\n",
      "60000/60000 [==============================] - 19s 324us/sample - loss: 0.0771 - accuracy: 0.9771\n",
      "Epoch 3/50\n",
      "60000/60000 [==============================] - 19s 321us/sample - loss: 0.0591 - accuracy: 0.9818\n",
      "Epoch 4/50\n",
      "60000/60000 [==============================] - 19s 323us/sample - loss: 0.0457 - accuracy: 0.9858\n",
      "Epoch 5/50\n",
      "60000/60000 [==============================] - 20s 329us/sample - loss: 0.0393 - accuracy: 0.9880\n",
      "Epoch 6/50\n",
      "60000/60000 [==============================] - 20s 327us/sample - loss: 0.0350 - accuracy: 0.9888\n",
      "Epoch 7/50\n",
      "60000/60000 [==============================] - 19s 321us/sample - loss: 0.0321 - accuracy: 0.9902\n",
      "Epoch 8/50\n",
      "60000/60000 [==============================] - 19s 320us/sample - loss: 0.0270 - accuracy: 0.9914\n",
      "Epoch 9/50\n",
      "60000/60000 [==============================] - 19s 322us/sample - loss: 0.0254 - accuracy: 0.9917\n",
      "Epoch 10/50\n",
      "60000/60000 [==============================] - 19s 321us/sample - loss: 0.0240 - accuracy: 0.9923\n",
      "Epoch 11/50\n",
      "60000/60000 [==============================] - 19s 320us/sample - loss: 0.0209 - accuracy: 0.9932\n",
      "Epoch 12/50\n",
      "60000/60000 [==============================] - 19s 320us/sample - loss: 0.0196 - accuracy: 0.9935\n",
      "Epoch 13/50\n",
      "60000/60000 [==============================] - 19s 321us/sample - loss: 0.0188 - accuracy: 0.9935\n",
      "Epoch 14/50\n",
      "60000/60000 [==============================] - 19s 321us/sample - loss: 0.0183 - accuracy: 0.9940\n",
      "Epoch 15/50\n",
      "60000/60000 [==============================] - 19s 322us/sample - loss: 0.0174 - accuracy: 0.9940\n",
      "Epoch 16/50\n",
      "60000/60000 [==============================] - 19s 321us/sample - loss: 0.0164 - accuracy: 0.9948\n",
      "Epoch 17/50\n",
      "60000/60000 [==============================] - 19s 321us/sample - loss: 0.0141 - accuracy: 0.9952\n",
      "Epoch 18/50\n",
      "60000/60000 [==============================] - 19s 320us/sample - loss: 0.0168 - accuracy: 0.9946\n",
      "Epoch 19/50\n",
      "60000/60000 [==============================] - 19s 323us/sample - loss: 0.0155 - accuracy: 0.9951\n",
      "Epoch 20/50\n",
      "60000/60000 [==============================] - 19s 319us/sample - loss: 0.0137 - accuracy: 0.9955\n",
      "Epoch 21/50\n",
      "60000/60000 [==============================] - 19s 320us/sample - loss: 0.0149 - accuracy: 0.9953\n",
      "Epoch 22/50\n",
      "60000/60000 [==============================] - 19s 324us/sample - loss: 0.0127 - accuracy: 0.9958\n",
      "Epoch 23/50\n",
      "60000/60000 [==============================] - 19s 321us/sample - loss: 0.0122 - accuracy: 0.9962\n",
      "Epoch 24/50\n",
      "60000/60000 [==============================] - 19s 322us/sample - loss: 0.0124 - accuracy: 0.9961\n",
      "Epoch 25/50\n",
      "60000/60000 [==============================] - 19s 321us/sample - loss: 0.0116 - accuracy: 0.9962\n",
      "Epoch 26/50\n",
      "60000/60000 [==============================] - 19s 318us/sample - loss: 0.0119 - accuracy: 0.9965\n",
      "Epoch 27/50\n",
      "60000/60000 [==============================] - 19s 321us/sample - loss: 0.0114 - accuracy: 0.9963\n",
      "Epoch 28/50\n",
      "60000/60000 [==============================] - 19s 321us/sample - loss: 0.0112 - accuracy: 0.9962\n",
      "Epoch 29/50\n",
      "60000/60000 [==============================] - 19s 320us/sample - loss: 0.0109 - accuracy: 0.9966\n",
      "Epoch 30/50\n",
      "60000/60000 [==============================] - 19s 319us/sample - loss: 0.0103 - accuracy: 0.9965\n",
      "Epoch 31/50\n",
      "60000/60000 [==============================] - 19s 319us/sample - loss: 0.0106 - accuracy: 0.9965\n",
      "Epoch 32/50\n",
      "60000/60000 [==============================] - 19s 322us/sample - loss: 0.0105 - accuracy: 0.9968\n",
      "Epoch 33/50\n",
      "60000/60000 [==============================] - 19s 323us/sample - loss: 0.0107 - accuracy: 0.9965\n",
      "Epoch 34/50\n",
      "60000/60000 [==============================] - 19s 322us/sample - loss: 0.0090 - accuracy: 0.9970\n",
      "Epoch 35/50\n",
      "60000/60000 [==============================] - 19s 321us/sample - loss: 0.0103 - accuracy: 0.9967\n",
      "Epoch 36/50\n",
      "60000/60000 [==============================] - 19s 320us/sample - loss: 0.0094 - accuracy: 0.9970\n",
      "Epoch 37/50\n",
      "60000/60000 [==============================] - 19s 324us/sample - loss: 0.0101 - accuracy: 0.9968\n",
      "Epoch 38/50\n",
      "60000/60000 [==============================] - 19s 321us/sample - loss: 0.0111 - accuracy: 0.9966\n",
      "Epoch 39/50\n",
      "60000/60000 [==============================] - 19s 319us/sample - loss: 0.0105 - accuracy: 0.9965\n",
      "Epoch 40/50\n",
      "60000/60000 [==============================] - 19s 320us/sample - loss: 0.0100 - accuracy: 0.9968\n",
      "Epoch 41/50\n",
      "60000/60000 [==============================] - 19s 320us/sample - loss: 0.0091 - accuracy: 0.9973\n",
      "Epoch 42/50\n",
      "60000/60000 [==============================] - 19s 322us/sample - loss: 0.0099 - accuracy: 0.9968\n",
      "Epoch 43/50\n",
      "60000/60000 [==============================] - 19s 323us/sample - loss: 0.0098 - accuracy: 0.9971\n",
      "Epoch 44/50\n",
      "60000/60000 [==============================] - 19s 323us/sample - loss: 0.0105 - accuracy: 0.9969\n",
      "Epoch 45/50\n",
      "60000/60000 [==============================] - 19s 322us/sample - loss: 0.0100 - accuracy: 0.9968\n",
      "Epoch 46/50\n",
      "60000/60000 [==============================] - 19s 321us/sample - loss: 0.0073 - accuracy: 0.9977\n",
      "Epoch 47/50\n",
      "60000/60000 [==============================] - 19s 324us/sample - loss: 0.0091 - accuracy: 0.9973\n",
      "Epoch 48/50\n",
      "60000/60000 [==============================] - 19s 323us/sample - loss: 0.0099 - accuracy: 0.9971\n",
      "Epoch 49/50\n",
      "60000/60000 [==============================] - 19s 323us/sample - loss: 0.0089 - accuracy: 0.9971\n",
      "Epoch 50/50\n",
      "60000/60000 [==============================] - 19s 323us/sample - loss: 0.0093 - accuracy: 0.9973\n"
     ]
    },
    {
     "data": {
      "text/plain": [
       "<tensorflow.python.keras.callbacks.History at 0x7f046d94fa20>"
      ]
     },
     "execution_count": 7,
     "metadata": {},
     "output_type": "execute_result"
    }
   ],
   "source": [
    "# Train the digit classification model\n",
    "model.fit(train_images, train_labels, epochs=50)"
   ]
  },
  {
   "cell_type": "markdown",
   "metadata": {
    "colab_type": "text",
    "id": "za35DFJ5uFkX"
   },
   "source": [
    "## Evaluate our model\n",
    "We run our digit classification model against our test dataset that the model hasn't seen during its training process. We want to confirm that the model didn't just remember the digits it saw but also generalize well to new images."
   ]
  },
  {
   "cell_type": "code",
   "execution_count": 8,
   "metadata": {
    "colab": {},
    "colab_type": "code",
    "id": "sJI8nqFWmMwC"
   },
   "outputs": [
    {
     "name": "stdout",
     "output_type": "stream",
     "text": [
      "10000/10000 [==============================] - 1s 141us/sample - loss: 0.0463 - accuracy: 0.9929\n",
      "Test accuracy: 0.9929\n"
     ]
    }
   ],
   "source": [
    "# Evaluate the model using test dataset.\n",
    "test_loss, test_acc = model.evaluate(test_images, test_labels)\n",
    "\n",
    "print('Test accuracy:', test_acc)"
   ]
  },
  {
   "cell_type": "code",
   "execution_count": 9,
   "metadata": {
    "colab": {},
    "colab_type": "code",
    "id": "PdlXEyUImeXC"
   },
   "outputs": [
    {
     "data": {
      "image/png": "[encoded data removed]",
      "text/plain": [
       "<Figure size 720x720 with 25 Axes>"
      ]
     },
     "metadata": {},
     "output_type": "display_data"
    }
   ],
   "source": [
    "# Predict the labels of digit images in our test dataset.\n",
    "predictions = model.predict(test_images)\n",
    "\n",
    "# Then plot the first 25 test images and their predicted labels.\n",
    "show_sample(test_images, \n",
    "            ['Predicted: %d' % np.argmax(result) for result in predictions])"
   ]
  },
  {
   "cell_type": "markdown",
   "metadata": {
    "colab_type": "text",
    "id": "AWROBI4iv9fY"
   },
   "source": [
    "## Convert the Keras model to TensorFlow Lite"
   ]
  },
  {
   "cell_type": "code",
   "execution_count": 10,
   "metadata": {
    "colab": {},
    "colab_type": "code",
    "id": "2fXStjR4mzkR"
   },
   "outputs": [],
   "source": [
    "# Convert Keras model to TF Lite format.\n",
    "converter = tf.lite.TFLiteConverter.from_keras_model(model)\n",
    "tflite_model = converter.convert()\n",
    "\n",
    "# Save the TF Lite model as file\n",
    "f = open('classify.tflite', \"wb\")\n",
    "f.write(tflite_model)\n",
    "f.close()"
   ]
  },
  {
   "cell_type": "code",
   "execution_count": 11,
   "metadata": {
    "colab": {},
    "colab_type": "code",
    "id": "Q_Z5yLxrwbpI"
   },
   "outputs": [
    {
     "name": "stdout",
     "output_type": "stream",
     "text": [
      "TF Lite model: /home/jack/works/tensorflow/conv-vae-tflite/mnist.tflite\n"
     ]
    }
   ],
   "source": [
    "# Download the digit classification model if you're using Colab, \n",
    "# or print the model's local path if you're not using Colab.\n",
    "try:\n",
    "  from google.colab import files\n",
    "  files.download('mnist.tflite')\n",
    "except ImportError:\n",
    "  import os\n",
    "  print('TF Lite model:', os.path.join(os.getcwd(), 'mnist.tflite'))"
   ]
  },
  {
   "cell_type": "markdown",
   "metadata": {
    "colab_type": "text",
    "id": "3TvDxaYU2ui7"
   },
   "source": [
    "## Verify the TensorFlow Lite model"
   ]
  },
  {
   "cell_type": "code",
   "execution_count": 12,
   "metadata": {
    "colab": {},
    "colab_type": "code",
    "id": "fFtIESwrx7cR"
   },
   "outputs": [
    {
     "name": "stdout",
     "output_type": "stream",
     "text": [
      "Downloading data from https://storage.googleapis.com/khanhlvg-public.appspot.com/digit-classifier/zero.png\n",
      "32768/28269 [==================================] - 0s 1us/step\n"
     ]
    },
    {
     "data": {
      "image/png": "[encoded data removed]",
      "text/plain": [
       "<Figure size 144x144 with 1 Axes>"
      ]
     },
     "metadata": {},
     "output_type": "display_data"
    }
   ],
   "source": [
    "# Download a test image\n",
    "zero_img_path = keras.utils.get_file(\n",
    "    'zero.png', \n",
    "    'https://storage.googleapis.com/khanhlvg-public.appspot.com/digit-classifier/zero.png'\n",
    ")\n",
    "image = keras.preprocessing.image.load_img(\n",
    "    zero_img_path,\n",
    "    color_mode = 'grayscale',\n",
    "    target_size=(28, 28),\n",
    "    interpolation='bilinear'\n",
    ")\n",
    "\n",
    "# Pre-process the image: Adding batch dimension and normalize the pixel value to [0..1]\n",
    "# In training, we feed images in a batch to the model to improve training speed, making the model input shape to be (BATCH_SIZE, 28, 28).\n",
    "# For inference, we still need to match the input shape with training, so we expand the input dimensions to (1, 28, 28) using np.expand_dims\n",
    "input_image = np.expand_dims(np.array(image, dtype=np.float32) / 255.0, 0)\n",
    "\n",
    "# Show the pre-processed input image\n",
    "show_sample(input_image, ['Input Image'], 1)"
   ]
  },
  {
   "cell_type": "code",
   "execution_count": 16,
   "metadata": {
    "colab": {},
    "colab_type": "code",
    "id": "xPtbtEJ2uacB"
   },
   "outputs": [
    {
     "name": "stdout",
     "output_type": "stream",
     "text": [
      "(1, 28, 28)\n",
      "[{'quantization': (0.0, 0), 'shape': array([ 1, 28, 28], dtype=int32), 'name': 'input_1', 'dtype': <class 'numpy.float32'>, 'index': 1}]\n",
      "[{'quantization': (0.0, 0), 'shape': array([ 1, 10], dtype=int32), 'name': 'Identity', 'dtype': <class 'numpy.float32'>, 'index': 0}]\n",
      "Predicted Digit: 0\n",
      "Confidence: 22.770235\n"
     ]
    }
   ],
   "source": [
    "# Run inference with TensorFlow Lite\n",
    "interpreter = tf.lite.Interpreter(model_content=tflite_model)\n",
    "interpreter.allocate_tensors()\n",
    "interpreter.set_tensor(interpreter.get_input_details()[0][\"index\"], input_image)\n",
    "interpreter.invoke()\n",
    "output = interpreter.tensor(interpreter.get_output_details()[0][\"index\"])()[0]\n",
    "print(input_image.shape)\n",
    "print(interpreter.get_input_details())\n",
    "print(interpreter.get_output_details())\n",
    "\n",
    "# Print the model's classification result\n",
    "digit = np.argmax(output)\n",
    "print('Predicted Digit: %d\\nConfidence: %f' % (digit, output[digit]))"
   ]
  },
  {
   "cell_type": "code",
   "execution_count": null,
   "metadata": {},
   "outputs": [],
   "source": []
  }
 ],
 "metadata": {
  "accelerator": "GPU",
  "anaconda-cloud": {},
  "colab": {
   "collapsed_sections": [],
   "name": "mnist_tflite.ipynb",
   "private_outputs": true,
   "provenance": [],
   "toc_visible": true
  },
  "kernelspec": {
   "display_name": "Python 3",
   "language": "python",
   "name": "python3"
  },
  "language_info": {
   "codemirror_mode": {
    "name": "ipython",
    "version": 3
   },
   "file_extension": ".py",
   "mimetype": "text/x-python",
   "name": "python",
   "nbconvert_exporter": "python",
   "pygments_lexer": "ipython3",
   "version": "3.5.2"
  }
 },
 "nbformat": 4,
 "nbformat_minor": 1
}
